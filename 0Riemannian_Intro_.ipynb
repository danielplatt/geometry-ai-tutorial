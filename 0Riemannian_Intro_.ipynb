{
  "nbformat": 4,
  "nbformat_minor": 0,
  "metadata": {
    "colab": {
      "provenance": []
    },
    "kernelspec": {
      "name": "python3",
      "display_name": "Python 3"
    },
    "language_info": {
      "name": "python"
    }
  },
  "cells": [
    {
      "cell_type": "markdown",
      "source": [
        "# Exercise 0: Introduction to Riemannian geometry\n",
        "\n",
        "Questions:\n",
        "\n",
        "1. On $U := B(0,1) \\subset \\mathbb{R}^2$ we make the following three definitions for $p \\in U$ and $V,W \\in \\mathbb{R}^2$:\n",
        "\n",
        "(a) $g^1_p(V,W):= V^T \\cdot \\begin{pmatrix}1&1\\\\0&1\\end{pmatrix} \\cdot W$\n",
        "\n",
        "(b) $g^2_p(V,W):=V^T \\cdot \\begin{pmatrix}|p|^2&0\\\\0&|p|^2\\end{pmatrix} \\cdot W$\n",
        "\n",
        "(c) $g^3_p(V,W):=V^T \\cdot \\begin{pmatrix}|p|^2+1&|p|^2\\\\|p|^2&|p|^2+1\\end{pmatrix} \\cdot W$\n",
        "\n",
        "Which of the three define a Riemannian metric on $U$?\n",
        "Prove your answers.\n",
        "\n",
        "2. On $U:=B(0,1)$ define\n",
        "$g_p(V,W):=V^T \\cdot \\begin{pmatrix}f(|p|)&0\\\\0&f(|p|)\\end{pmatrix} \\cdot W$,\n",
        "where\n",
        "$$F: \\mathbb{R} \\rightarrow \\mathbb{R}^{2 \\times 2}\n",
        ", \\quad\n",
        "t \\mapsto\n",
        "\\begin{cases}\n",
        "101+100 \\cdot \\cos(2 \\pi t) &\\text{ if } t \\leq 1/2\n",
        "\\\\\n",
        "1 &\\text{ if } t \\geq 1/2.\n",
        "\\end{cases}\n",
        "$$\n",
        "We are interested in the distance between the points $(-1/2,0)$ and $(1/2,0) \\in U$.\n",
        "\n",
        "(a) Compute the distance between the two points along the path $\\gamma(t)=(t,0)$ and $\\gamma(t)=-\\frac{1}{2} \\cdot (\\cos(t),\\sin(t))$.\n",
        "Which upper bound does this give you for the distance between the points?\n",
        "\n",
        "(b) Find some lower bound (bigger than zero) for the distance between the two points.\n",
        "\n",
        "3. On the interval $I:=[0,2\\pi]$ define the Riemannian metric $g_p(V,W)=V \\cdot W$ for $p \\in I$, $V,W \\in \\mathbb{R}$.\n",
        "Define $S^1_{\\text{abstract}} := I/\\sim$, where $\\sim$ is the equivalence relation identifying the endpoints of $I$, i.e. such that $0\\sim 1$ and $1\\sim 0$ and the only other equivalences are $t \\sim t$ for $t \\in I$.\n",
        "\n",
        "(a) Define the map $F: S^1_{\\text{abstract}} \\rightarrow \\mathbb{R}^2$ given by $[t] \\mapsto (\\sin t,\\cos t)$ (convince yourself it's well defined). Denote the distance on $S^1_{\\text{abstract}}$ by $d^g$ and the usual Euclidean distance on $\\mathbb{R}^2$ by $d_{\\text{Eucl}}$. Show that $F$ is not an isometry with respect to the metrics $d^g$ and $d_{\\text{Eucl}}$.\n",
        "\n",
        "(b) Define $S^2:=\\{(x,y,z) \\in \\mathbb{R}^3: x^2+y^2+z^2\\}$ with the Riemannian metric $g^{\\text{Eucl}}_p(V,W):=V^T \\cdot W$ for $p \\in S^2$ and $V,W \\in \\mathbb{R}^3$ with induced distance function $d_{S^2}$. Define the map $F:S^1_{\\text{abstract}} \\rightarrow S^2$ given by $[t] \\mapsto (\\sin t, \\cos t, 0)$ (convince yourself it's well defined). Show that $F$ *IS* an isometry with respect to the metric $d^g$ and $d_{S^2}$.\n",
        "\n",
        "4*.\n",
        "Given an arbitrary metric on the unit square $[0,1] \\times [0,1] \\subset \\mathbb{R}^2$ invent a way to approximately compute distances between points with respect to the distance function induced by this metric.\n",
        "Your method should have the property that the approximation becomes better and better as more computation time is used.\n",
        "You can use any existing libraries."
      ],
      "metadata": {
        "id": "y8mlnWDAWVrC"
      }
    },
    {
      "cell_type": "code",
      "execution_count": null,
      "metadata": {
        "id": "MuDpdZBGWRIn"
      },
      "outputs": [],
      "source": []
    }
  ]
}